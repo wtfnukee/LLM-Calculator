{
  "cells": [
    {
      "cell_type": "code",
      "source": [
        "!pip install wandb -q"
      ],
      "metadata": {
        "id": "nAMDbVkOVTjA"
      },
      "execution_count": 35,
      "outputs": []
    },
    {
      "cell_type": "markdown",
      "source": [
        "## Init wandb for logging"
      ],
      "metadata": {
        "id": "U7sOhUIBam1Q"
      }
    },
    {
      "cell_type": "code",
      "execution_count": 2,
      "metadata": {
        "execution": {
          "iopub.execute_input": "2023-06-05T11:51:58.708543Z",
          "iopub.status.busy": "2023-06-05T11:51:58.708134Z",
          "iopub.status.idle": "2023-06-05T11:52:13.565704Z",
          "shell.execute_reply": "2023-06-05T11:52:13.564359Z",
          "shell.execute_reply.started": "2023-06-05T11:51:58.708508Z"
        },
        "colab": {
          "base_uri": "https://localhost:8080/"
        },
        "id": "u3U2zugbWtjr",
        "outputId": "e83f7954-426b-444f-c264-66ecc7992e24"
      },
      "outputs": [
        {
          "output_type": "stream",
          "name": "stderr",
          "text": [
            "\u001b[34m\u001b[1mwandb\u001b[0m: Currently logged in as: \u001b[33mkwargs\u001b[0m. Use \u001b[1m`wandb login --relogin`\u001b[0m to force relogin\n"
          ]
        },
        {
          "output_type": "execute_result",
          "data": {
            "text/plain": [
              "True"
            ]
          },
          "metadata": {},
          "execution_count": 2
        }
      ],
      "source": [
        "import wandb\n",
        "wandb.login()"
      ]
    },
    {
      "cell_type": "markdown",
      "source": [
        "## Import all libraries and set seeds"
      ],
      "metadata": {
        "id": "ZiLI58w9a010"
      }
    },
    {
      "cell_type": "code",
      "execution_count": 45,
      "metadata": {
        "id": "kbbNzwbnaxPW",
        "tags": []
      },
      "outputs": [],
      "source": [
        "import warnings\n",
        "warnings.simplefilter(\"ignore\", UserWarning)\n",
        "\n",
        "import torch\n",
        "import torch.nn as nn\n",
        "import torch.nn.functional as F\n",
        "import torch.optim as optim\n",
        "from torch.utils.data import Dataset, DataLoader\n",
        "import numpy as np\n",
        "import pandas as pd\n",
        "from tqdm.notebook import tqdm\n",
        "import random\n",
        "import os\n",
        "\n",
        "def seed_everything(seed: int):   \n",
        "    random.seed(seed)\n",
        "    os.environ['PYTHONHASHSEED'] = str(seed)\n",
        "    np.random.seed(seed)\n",
        "    torch.manual_seed(seed)\n",
        "    torch.cuda.manual_seed(seed)\n",
        "    torch.backends.cudnn.deterministic = True\n",
        "    torch.backends.cudnn.benchmark = True\n",
        "    \n",
        "seed_everything(42)"
      ]
    },
    {
      "cell_type": "markdown",
      "source": [
        "# Data"
      ],
      "metadata": {
        "id": "zMRwgI7dmnJq"
      }
    },
    {
      "cell_type": "markdown",
      "source": [
        "## Make custom dataset class"
      ],
      "metadata": {
        "id": "lufqd8ERa-Kb"
      }
    },
    {
      "cell_type": "code",
      "execution_count": 4,
      "metadata": {
        "id": "PFyQN0NrbbS9",
        "tags": []
      },
      "outputs": [],
      "source": [
        "from itertools import product\n",
        "\n",
        "\n",
        "class NumbersDataset(Dataset):\n",
        "    def __init__(self, left_len, right_len, tokenizer):\n",
        "        super(NumbersDataset, self).__init__()\n",
        "        self.left_len = left_len\n",
        "        self.right_len = right_len\n",
        "        self.tokenizer = tokenizer\n",
        "        self._build()\n",
        "    \n",
        "    def __len__(self):\n",
        "        return len(self.X)\n",
        "    \n",
        "    def __getitem__(self, idx):\n",
        "        return self.X[idx], self.y[idx]\n",
        "\n",
        "    def _build(self):\n",
        "        self.X = []\n",
        "        self.y = []\n",
        "        left_range = range(10**self.left_len)\n",
        "        right_range = range(10**self.right_len)\n",
        "        for i in product(left_range, right_range):\n",
        "            self.X.append(self.tokenizer(f'{i[0]}+{i[1]}')) # I'm really sorry for this mess\n",
        "            self.y.append([i[0]+i[1]])\n",
        "        self.X = self.X\n",
        "        self.y = self.y"
      ]
    },
    {
      "cell_type": "markdown",
      "source": [
        "## Simple tokenizer, nothing more"
      ],
      "metadata": {
        "id": "mOjRxp-0bJmL"
      }
    },
    {
      "cell_type": "code",
      "execution_count": 5,
      "metadata": {
        "colab": {
          "base_uri": "https://localhost:8080/"
        },
        "id": "n5o1b0sT_bvI",
        "outputId": "54e91075-54e1-45fb-9841-6a013b4c8bc6",
        "tags": []
      },
      "outputs": [
        {
          "output_type": "execute_result",
          "data": {
            "text/plain": [
              "[2, 10, 2, 2]"
            ]
          },
          "metadata": {},
          "execution_count": 5
        }
      ],
      "source": [
        "def tokenizer(string):\n",
        "    subs = {\n",
        "         \"+\": 10, \n",
        "    }\n",
        "    return [int(subs.get(item, item)) for item in string]\n",
        "\n",
        "tokenizer('2+22')"
      ]
    },
    {
      "cell_type": "markdown",
      "source": [
        "## Assemble average-sized dataset"
      ],
      "metadata": {
        "id": "VlHLNwSrbt0c"
      }
    },
    {
      "cell_type": "code",
      "execution_count": 6,
      "metadata": {
        "id": "qaWTJofPeHGT",
        "tags": [],
        "colab": {
          "base_uri": "https://localhost:8080/"
        },
        "outputId": "c1539209-6f05-40c1-fa70-5d96934954ad"
      },
      "outputs": [
        {
          "output_type": "stream",
          "name": "stdout",
          "text": [
            "CPU times: user 26.6 ms, sys: 3.95 ms, total: 30.5 ms\n",
            "Wall time: 36.1 ms\n"
          ]
        }
      ],
      "source": [
        "%%time\n",
        "nums = NumbersDataset(2, 2, tokenizer)"
      ]
    },
    {
      "cell_type": "code",
      "execution_count": 7,
      "metadata": {
        "colab": {
          "base_uri": "https://localhost:8080/"
        },
        "id": "qcnUsD4rbgeH",
        "outputId": "e5aa564d-9c32-4307-f3c2-4a44f1835617",
        "tags": []
      },
      "outputs": [
        {
          "output_type": "execute_result",
          "data": {
            "text/plain": [
              "10000"
            ]
          },
          "metadata": {},
          "execution_count": 7
        }
      ],
      "source": [
        "len(nums)"
      ]
    },
    {
      "cell_type": "markdown",
      "source": [
        "## Get dataloaders"
      ],
      "metadata": {
        "id": "VloKyzRObz3n"
      }
    },
    {
      "cell_type": "code",
      "execution_count": 8,
      "metadata": {
        "id": "JEtCxuZJaGFs",
        "tags": []
      },
      "outputs": [],
      "source": [
        "def collate_fn(items):\n",
        "    tokens = [torch.tensor(i[0]) for i in items]\n",
        "    labels = [torch.tensor(i[1]) for i in items]\n",
        "    packed_tokens = torch.nn.utils.rnn.pack_sequence(tokens, enforce_sorted=False)\n",
        "    packed_labels = torch.nn.utils.rnn.pack_sequence(labels, enforce_sorted=False)\n",
        "    return packed_tokens, torch.stack(labels)\n",
        "\n",
        "train, test = torch.utils.data.random_split(nums, [0.8, 0.2])\n",
        "train_loader = DataLoader(train, num_workers=2, batch_size=4, drop_last=True, shuffle=True, pin_memory=True, collate_fn=collate_fn) \n",
        "test_loader = DataLoader(test, num_workers=2, batch_size=4, drop_last=True, shuffle=True, pin_memory=True, collate_fn=collate_fn)\n",
        "ex = next(iter(train_loader))\n",
        "# ex[0], ex[1]"
      ]
    },
    {
      "cell_type": "code",
      "execution_count": 9,
      "metadata": {
        "tags": [],
        "colab": {
          "base_uri": "https://localhost:8080/"
        },
        "id": "iZuoAEqgWtjv",
        "outputId": "2a4de532-b5eb-4b73-c16a-d4980a2ccb03"
      },
      "outputs": [
        {
          "output_type": "stream",
          "name": "stdout",
          "text": [
            "CPU times: user 6 µs, sys: 2 µs, total: 8 µs\n",
            "Wall time: 13.8 µs\n"
          ]
        },
        {
          "output_type": "execute_result",
          "data": {
            "text/plain": [
              "([0, 10, 0], [0])"
            ]
          },
          "metadata": {},
          "execution_count": 9
        }
      ],
      "source": [
        "%%time\n",
        "nums[0]"
      ]
    },
    {
      "cell_type": "code",
      "execution_count": 10,
      "metadata": {
        "tags": [],
        "colab": {
          "base_uri": "https://localhost:8080/"
        },
        "id": "1DoZO115Wtjv",
        "outputId": "d73325bc-888b-4a9d-d223-c2c928b8b7da"
      },
      "outputs": [
        {
          "output_type": "stream",
          "name": "stdout",
          "text": [
            "CPU times: user 7.24 ms, sys: 80.4 ms, total: 87.6 ms\n",
            "Wall time: 215 ms\n"
          ]
        },
        {
          "output_type": "execute_result",
          "data": {
            "text/plain": [
              "[PackedSequence(data=tensor([ 3,  9,  1,  0,  3,  6,  8, 10, 10, 10, 10,  7,  6,  2,  3,  2,  0,  6]), batch_sizes=tensor([4, 4, 4, 4, 2]), sorted_indices=tensor([0, 3, 1, 2]), unsorted_indices=tensor([0, 2, 3, 1])),\n",
              " tensor([[ 93],\n",
              "         [ 21],\n",
              "         [ 72],\n",
              "         [122]])]"
            ]
          },
          "metadata": {},
          "execution_count": 10
        }
      ],
      "source": [
        "%%time\n",
        "next(iter(train_loader));"
      ]
    },
    {
      "cell_type": "markdown",
      "source": [
        "# Train"
      ],
      "metadata": {
        "id": "0ntR9eRmmlFc"
      }
    },
    {
      "cell_type": "markdown",
      "source": [
        "## Assemble model\n",
        "That is embeddings layer + rnn + linear + relu + linear"
      ],
      "metadata": {
        "id": "cvFVFI78mODi"
      }
    },
    {
      "cell_type": "code",
      "execution_count": 11,
      "metadata": {
        "id": "OzjMDr9do1IS",
        "tags": []
      },
      "outputs": [],
      "source": [
        "class LSTMCalc(nn.Module):\n",
        "    def __init__(self, hidden_size: int = 128, num_layers: int = 4, dropout: float = 0.1):\n",
        "        super().__init__()\n",
        "        # 11 stands for 0-9 and +\n",
        "        self.embeddings = nn.Embedding(11, hidden_size)\n",
        "        self.rnn = nn.LSTM(hidden_size, hidden_size, num_layers, dropout=dropout)\n",
        "        self.ln = nn.LayerNorm(hidden_size)\n",
        "        self.lin1 = nn.Linear(hidden_size, hidden_size)\n",
        "        self.relu1 = nn.ReLU()\n",
        "        self.head = nn.Linear(hidden_size, 1)\n",
        "\n",
        "    def forward(self, input_ids, length_inputs):\n",
        "        \"\"\"\n",
        "        Args:\n",
        "            input_ids: Torch.Tensor, shape: (seq_length, batch_size, hidden_size)\n",
        "        \"\"\"\n",
        "        embs = self.embeddings(input_ids)\n",
        "\n",
        "        packed_sequences = torch.nn.utils.rnn.pack_padded_sequence(embs, length_inputs, enforce_sorted=False)\n",
        "        rnn_outputs, _ = self.rnn(packed_sequences)\n",
        "        unpacked_sequences, _ = torch.nn.utils.rnn.pad_packed_sequence(rnn_outputs)\n",
        "        unpacked_sequences = unpacked_sequences.permute(1, 0, 2)\n",
        "        out = self.ln(unpacked_sequences)\n",
        "        out = self.lin1(out)\n",
        "        out = self.relu1(out)\n",
        "        out = self.head(unpacked_sequences)\n",
        "        return out.mean(dim=1)"
      ]
    },
    {
      "cell_type": "code",
      "execution_count": 12,
      "metadata": {
        "id": "uu9Eds6Wt4e_",
        "tags": []
      },
      "outputs": [],
      "source": [
        "config = dict(\n",
        "    hidden_size=256,\n",
        "    num_layers=4,\n",
        "    dropout=0.1\n",
        ")\n",
        "model = LSTMCalc(**config)"
      ]
    },
    {
      "cell_type": "markdown",
      "source": [
        "## Run train loop"
      ],
      "metadata": {
        "id": "eQurJq53mdQl"
      }
    },
    {
      "cell_type": "code",
      "execution_count": 13,
      "metadata": {
        "colab": {
          "base_uri": "https://localhost:8080/",
          "height": 792,
          "referenced_widgets": [
            "a6a5d42a1e224b8384fd2955516084f4",
            "b571915e58ec47c383d897ab3d0ccf1f",
            "098c647add61468287749f82d8ae7021",
            "dda0870e55c64807b5b4765b739a58f5",
            "0315885651c64b76ac0a542a37e36d1a",
            "4afb48aba0bf43279192e4adfae0eeaf",
            "3ecc434f051e4f2ab333564374a8333d",
            "6e984317d47b491da75a45e7e3df7b89",
            "0f5f2bdb59134cdcbefc16d67241eb5a",
            "88631b29c6404f23ab2f91aeb829645d",
            "3d19e09b0c7a4fc0aba77095e2df0ae7",
            "bdac2f882bc94aceba7b9650b0b6da28",
            "430bb59082dd478b84529cd8890a615a",
            "f87a06d6fe134cd5a1741ae08b452b26",
            "68b7d526e70d41c69b9dbc31da25998b",
            "18339eaffae948829aceba660c156644",
            "216cfb9aed8f4eee8ef4b99e157ad4b4",
            "22476f8052e942eeb938c6f75ef5f489",
            "2cbbcdf18b834e3b8779babed3956426"
          ]
        },
        "id": "8M22oe4TrOqU",
        "outputId": "dfdc9a59-d28c-466c-deed-a8ed9f5b222b",
        "tags": []
      },
      "outputs": [
        {
          "output_type": "display_data",
          "data": {
            "text/plain": [
              "<IPython.core.display.HTML object>"
            ],
            "text/html": [
              "Tracking run with wandb version 0.15.3"
            ]
          },
          "metadata": {}
        },
        {
          "output_type": "display_data",
          "data": {
            "text/plain": [
              "<IPython.core.display.HTML object>"
            ],
            "text/html": [
              "Run data is saved locally in <code>/content/wandb/run-20230605_214113-vwnt0oc9</code>"
            ]
          },
          "metadata": {}
        },
        {
          "output_type": "display_data",
          "data": {
            "text/plain": [
              "<IPython.core.display.HTML object>"
            ],
            "text/html": [
              "Syncing run <strong><a href='https://wandb.ai/kwargs/llmcalc/runs/vwnt0oc9' target=\"_blank\">silvery-vortex-29</a></strong> to <a href='https://wandb.ai/kwargs/llmcalc' target=\"_blank\">Weights & Biases</a> (<a href='https://wandb.me/run' target=\"_blank\">docs</a>)<br/>"
            ]
          },
          "metadata": {}
        },
        {
          "output_type": "display_data",
          "data": {
            "text/plain": [
              "<IPython.core.display.HTML object>"
            ],
            "text/html": [
              " View project at <a href='https://wandb.ai/kwargs/llmcalc' target=\"_blank\">https://wandb.ai/kwargs/llmcalc</a>"
            ]
          },
          "metadata": {}
        },
        {
          "output_type": "display_data",
          "data": {
            "text/plain": [
              "<IPython.core.display.HTML object>"
            ],
            "text/html": [
              " View run at <a href='https://wandb.ai/kwargs/llmcalc/runs/vwnt0oc9' target=\"_blank\">https://wandb.ai/kwargs/llmcalc/runs/vwnt0oc9</a>"
            ]
          },
          "metadata": {}
        },
        {
          "output_type": "display_data",
          "data": {
            "text/plain": [
              "  0%|          | 0/20 [00:00<?, ?it/s]"
            ],
            "application/vnd.jupyter.widget-view+json": {
              "version_major": 2,
              "version_minor": 0,
              "model_id": "a6a5d42a1e224b8384fd2955516084f4"
            }
          },
          "metadata": {}
        },
        {
          "output_type": "stream",
          "name": "stdout",
          "text": [
            "Epoch: 0 | Loss: 34.85438 | Test loss:24.48872\n",
            "Epoch: 1 | Loss: 8.71373 | Test loss:4.09806\n",
            "Epoch: 2 | Loss: 3.83348 | Test loss:3.11417\n",
            "Epoch: 3 | Loss: 3.11059 | Test loss:3.14050\n",
            "Epoch: 4 | Loss: 2.68024 | Test loss:2.55691\n",
            "Epoch: 5 | Loss: 2.37404 | Test loss:2.33686\n",
            "Epoch: 6 | Loss: 2.14232 | Test loss:2.10334\n",
            "Epoch: 7 | Loss: 1.92731 | Test loss:1.90592\n",
            "Epoch: 8 | Loss: 1.78601 | Test loss:1.77497\n",
            "Epoch: 9 | Loss: 1.66357 | Test loss:1.69086\n",
            "Epoch: 10 | Loss: 1.58841 | Test loss:1.78035\n",
            "Epoch: 11 | Loss: 1.53379 | Test loss:1.64932\n",
            "Epoch: 12 | Loss: 1.44270 | Test loss:1.47186\n",
            "Epoch: 13 | Loss: 1.38389 | Test loss:1.43398\n",
            "Epoch: 14 | Loss: 1.31618 | Test loss:1.38979\n",
            "Epoch: 15 | Loss: 1.30379 | Test loss:1.35755\n",
            "Epoch: 16 | Loss: 1.24413 | Test loss:1.31339\n",
            "Epoch: 17 | Loss: 1.17736 | Test loss:1.35129\n",
            "Epoch: 18 | Loss: 1.15963 | Test loss:1.20077\n",
            "Epoch: 19 | Loss: 1.10976 | Test loss:1.35080\n"
          ]
        },
        {
          "output_type": "display_data",
          "data": {
            "text/plain": [
              "<IPython.core.display.HTML object>"
            ],
            "text/html": [
              "Waiting for W&B process to finish... <strong style=\"color:green\">(success).</strong>"
            ]
          },
          "metadata": {}
        },
        {
          "output_type": "display_data",
          "data": {
            "text/plain": [
              "VBox(children=(Label(value='0.001 MB of 0.010 MB uploaded (0.000 MB deduped)\\r'), FloatProgress(value=0.110090…"
            ],
            "application/vnd.jupyter.widget-view+json": {
              "version_major": 2,
              "version_minor": 0,
              "model_id": "bdac2f882bc94aceba7b9650b0b6da28"
            }
          },
          "metadata": {}
        },
        {
          "output_type": "display_data",
          "data": {
            "text/plain": [
              "<IPython.core.display.HTML object>"
            ],
            "text/html": [
              "<style>\n",
              "    table.wandb td:nth-child(1) { padding: 0 10px; text-align: left ; width: auto;} td:nth-child(2) {text-align: left ; width: 100%}\n",
              "    .wandb-row { display: flex; flex-direction: row; flex-wrap: wrap; justify-content: flex-start; width: 100% }\n",
              "    .wandb-col { display: flex; flex-direction: column; flex-basis: 100%; flex: 1; padding: 10px; }\n",
              "    </style>\n",
              "<div class=\"wandb-row\"><div class=\"wandb-col\"><h3>Run history:</h3><br/><table class=\"wandb\"><tr><td>epoch</td><td>▁▁▂▂▂▃▃▄▄▄▅▅▅▆▆▇▇▇██</td></tr><tr><td>test/loss</td><td>█▂▂▂▁▁▁▁▁▁▁▁▁▁▁▁▁▁▁▁</td></tr><tr><td>train/loss</td><td>█▃▂▁▁▁▁▁▁▁▁▁▁▁▁▁▁▁▁▁</td></tr></table><br/></div><div class=\"wandb-col\"><h3>Run summary:</h3><br/><table class=\"wandb\"><tr><td>epoch</td><td>19</td></tr><tr><td>test/loss</td><td>1.3508</td></tr><tr><td>train/loss</td><td>1.10976</td></tr></table><br/></div></div>"
            ]
          },
          "metadata": {}
        },
        {
          "output_type": "display_data",
          "data": {
            "text/plain": [
              "<IPython.core.display.HTML object>"
            ],
            "text/html": [
              " View run <strong style=\"color:#cdcd00\">silvery-vortex-29</strong> at: <a href='https://wandb.ai/kwargs/llmcalc/runs/vwnt0oc9' target=\"_blank\">https://wandb.ai/kwargs/llmcalc/runs/vwnt0oc9</a><br/>Synced 5 W&B file(s), 0 media file(s), 0 artifact file(s) and 0 other file(s)"
            ]
          },
          "metadata": {}
        },
        {
          "output_type": "display_data",
          "data": {
            "text/plain": [
              "<IPython.core.display.HTML object>"
            ],
            "text/html": [
              "Find logs at: <code>./wandb/run-20230605_214113-vwnt0oc9/logs</code>"
            ]
          },
          "metadata": {}
        }
      ],
      "source": [
        "# Set number of epochs\n",
        "epochs = 20\n",
        "\n",
        "device = torch.device('cpu' if torch.cuda.is_available() else 'cpu')\n",
        "\n",
        "loss_fn = nn.L1Loss()\n",
        "\n",
        "optimizer = optim.AdamW(model.parameters(), lr=1e-3, weight_decay=1e-4)\n",
        "\n",
        "wandb.init(\n",
        "    # set the wandb project where this run will be logged\n",
        "    project=\"llmcalc\",\n",
        "    \n",
        "    # track hyperparameters and run metadata\n",
        "    config={\n",
        "        \"group\":\"e\",\n",
        "        \"model\":\"lstm\",\n",
        "        \"hidden_size\":config['hidden_size'],\n",
        "        \"num_layers\":config['num_layers'],\n",
        "        \"left\": 2,\n",
        "        \"right\": 2,\n",
        "        \"bs\":4\n",
        "    }\n",
        ")\n",
        "\n",
        "model = model.to(device, non_blocking=True)\n",
        "for epoch in tqdm(range(epochs)):\n",
        "    model.train()\n",
        "    losses = []\n",
        "    for i, batch in enumerate(train_loader):\n",
        "        optimizer.zero_grad()\n",
        "        inputs, labels = batch\n",
        "        inputs = inputs.to(device, non_blocking=True)\n",
        "        labels = labels.to(device, non_blocking=True) \n",
        "        inputs, inputs_length = torch.nn.utils.rnn.pad_packed_sequence(inputs)\n",
        "        \n",
        "        outputs = model(inputs, inputs_length)\n",
        "        loss = loss_fn(outputs, labels)\n",
        "        losses.append(loss)\n",
        "        loss.backward()\n",
        "\n",
        "        optimizer.step()\n",
        "\n",
        "    model.eval()\n",
        "    test_losses = []\n",
        "    for i, batch in enumerate(test_loader):\n",
        "        with torch.no_grad():\n",
        "            optimizer.zero_grad()\n",
        "            inputs, labels = batch\n",
        "            inputs = inputs.to(device, non_blocking=True)\n",
        "            labels = labels.to(device, non_blocking=True) \n",
        "            \n",
        "            inputs, inputs_length = torch.nn.utils.rnn.pad_packed_sequence(inputs)\n",
        "            \n",
        "            outputs = model(inputs, inputs_length)\n",
        "            test_loss = loss_fn(outputs, labels,)\n",
        "            test_losses.append(test_loss)\n",
        "\n",
        "    wandb.log({\n",
        "        \"epoch\":epoch,\n",
        "        \"train/loss\": sum(losses)/len(losses),\n",
        "        \"test/loss\": sum(test_losses)/len(test_losses)\n",
        "        })\n",
        "    print(f\"Epoch: {epoch} | Loss: {sum(losses)/len(losses):.5f} | Test loss:{sum(test_losses)/len(test_losses):.5f}\") \n",
        "wandb.finish()"
      ]
    },
    {
      "cell_type": "markdown",
      "source": [
        "# Save/Load model"
      ],
      "metadata": {
        "id": "SgPgaPZAob_Z"
      }
    },
    {
      "cell_type": "code",
      "source": [
        "if not os.path.exists('lstm'):\n",
        "    torch.save(model.to('cpu').state_dict(), 'lstm')"
      ],
      "metadata": {
        "id": "QsF_2YoMoeqI"
      },
      "execution_count": 28,
      "outputs": []
    },
    {
      "cell_type": "code",
      "source": [
        "if os.path.exists('lstm'):\n",
        "    model.load_state_dict(torch.load('lstm'))\n",
        "else:\n",
        "    print('No saved model!')"
      ],
      "metadata": {
        "id": "kdMRrZNPo0As"
      },
      "execution_count": 29,
      "outputs": []
    },
    {
      "cell_type": "markdown",
      "source": [
        "# Inference"
      ],
      "metadata": {
        "id": "dNGksXHmmhkS"
      }
    },
    {
      "cell_type": "code",
      "execution_count": 39,
      "metadata": {
        "id": "18Xj35sgrR9v",
        "tags": [],
        "colab": {
          "base_uri": "https://localhost:8080/"
        },
        "outputId": "645c5679-2414-480b-f062-beabf97befe9"
      },
      "outputs": [
        {
          "output_type": "stream",
          "name": "stdout",
          "text": [
            "tensor([ 4,  8, 10,  9,  5])\n",
            "[143]\n"
          ]
        },
        {
          "output_type": "stream",
          "name": "stderr",
          "text": [
            "<ipython-input-39-7c6752ba8a20>:7: UserWarning: To copy construct from a tensor, it is recommended to use sourceTensor.clone().detach() or sourceTensor.clone().detach().requires_grad_(True), rather than torch.tensor(sourceTensor).\n",
            "  tokens = [torch.tensor(i[0]) for i in items]\n",
            "/usr/local/lib/python3.10/dist-packages/torch/nn/modules/loss.py:101: UserWarning: Using a target size (torch.Size([1])) that is different to the input size (torch.Size([1, 1])). This will likely lead to incorrect results due to broadcasting. Please ensure they have the same size.\n",
            "  return F.l1_loss(input, target, reduction=self.reduction)\n"
          ]
        },
        {
          "output_type": "execute_result",
          "data": {
            "text/plain": [
              "(tensor([[142.6019]], grad_fn=<MeanBackward1>),\n",
              " [4, 8, 10, 9, 5],\n",
              " [143],\n",
              " tensor(0.3981, grad_fn=<MeanBackward0>))"
            ]
          },
          "metadata": {},
          "execution_count": 39
        }
      ],
      "source": [
        "# Once again, sorry for this mess\n",
        "inputs = torch.tensor(test[0][0])\n",
        "print(inputs)\n",
        "labels = test[0][1]\n",
        "print(labels)\n",
        "def collate_fn(items):\n",
        "    tokens = [torch.tensor(i[0]) for i in items]\n",
        "    labels = [torch.tensor(i[1]) for i in items]\n",
        "    packed_tokens = torch.nn.utils.rnn.pack_sequence(tokens, enforce_sorted=False)\n",
        "    packed_labels = torch.nn.utils.rnn.pack_sequence(labels, enforce_sorted=False)\n",
        "    return packed_tokens, torch.stack(labels)\n",
        "inputs, labels = collate_fn([[inputs, labels]])\n",
        "inputs, inputs_length = torch.nn.utils.rnn.pad_packed_sequence(inputs)\n",
        "(\n",
        "model(inputs, inputs_length),\n",
        "test[0][0], \n",
        "test[0][1],\n",
        "loss_fn(\n",
        "        model(inputs, inputs_length),\n",
        "        torch.tensor(test[0][1])\n",
        "       )\n",
        ")"
      ]
    },
    {
      "cell_type": "markdown",
      "source": [
        "# Some frontend\n"
      ],
      "metadata": {
        "id": "MjUieCe5phs0"
      }
    },
    {
      "cell_type": "code",
      "source": [
        "text = '48+95' #@param {type:\"string\"}\n",
        "label = 143 #@param {type:\"number\"}\n",
        "tokenized = torch.tensor(tokenizer(text))\n",
        "label = [label]\n",
        "def collate_fn(items):\n",
        "    tokens = [torch.tensor(i[0]) for i in items]\n",
        "    labels = [torch.tensor(i[1]) for i in items]\n",
        "    packed_tokens = torch.nn.utils.rnn.pack_sequence(tokens, enforce_sorted=False)\n",
        "    packed_labels = torch.nn.utils.rnn.pack_sequence(labels, enforce_sorted=False)\n",
        "    return packed_tokens, torch.stack(labels)\n",
        "inputs, labels = collate_fn([[tokenized, label]])\n",
        "inputs, inputs_length = torch.nn.utils.rnn.pad_packed_sequence(inputs)\n",
        "\n",
        "out = model(inputs, inputs_length)[0][0]\n",
        "\n",
        "print(f\"Model answer: ~{out.round()} ({out}),\\nTrue answer is {label[0]}\")\n",
        "if label != None:\n",
        "    print(\"MAE is\",\n",
        "        loss_fn(\n",
        "                model(inputs, inputs_length),\n",
        "                torch.tensor(label)\n",
        "            ).item()\n",
        "    )"
      ],
      "metadata": {
        "colab": {
          "base_uri": "https://localhost:8080/"
        },
        "id": "dwUx2Tlgps6L",
        "outputId": "c743ae43-ba0d-4fa7-9109-5ff6868b0438"
      },
      "execution_count": 58,
      "outputs": [
        {
          "output_type": "stream",
          "name": "stdout",
          "text": [
            "Model answer: ~143.0 (142.60191345214844),\n",
            "True answer is 143\n",
            "MAE is 0.3980865478515625\n"
          ]
        }
      ]
    },
    {
      "cell_type": "code",
      "source": [],
      "metadata": {
        "id": "dwjohrTDpxtN"
      },
      "execution_count": null,
      "outputs": []
    }
  ],
  "metadata": {
    "accelerator": "GPU",
    "colab": {
      "gpuType": "T4",
      "provenance": []
    },
    "kernelspec": {
      "display_name": "Python 3 (ipykernel)",
      "language": "python",
      "name": "python3"
    },
    "language_info": {
      "codemirror_mode": {
        "name": "ipython",
        "version": 3
      },
      "file_extension": ".py",
      "mimetype": "text/x-python",
      "name": "python",
      "nbconvert_exporter": "python",
      "pygments_lexer": "ipython3",
      "version": "3.8.10"
    },
    "widgets": {
      "application/vnd.jupyter.widget-state+json": {
        "a6a5d42a1e224b8384fd2955516084f4": {
          "model_module": "@jupyter-widgets/controls",
          "model_name": "HBoxModel",
          "model_module_version": "1.5.0",
          "state": {
            "_dom_classes": [],
            "_model_module": "@jupyter-widgets/controls",
            "_model_module_version": "1.5.0",
            "_model_name": "HBoxModel",
            "_view_count": null,
            "_view_module": "@jupyter-widgets/controls",
            "_view_module_version": "1.5.0",
            "_view_name": "HBoxView",
            "box_style": "",
            "children": [
              "IPY_MODEL_b571915e58ec47c383d897ab3d0ccf1f",
              "IPY_MODEL_098c647add61468287749f82d8ae7021",
              "IPY_MODEL_dda0870e55c64807b5b4765b739a58f5"
            ],
            "layout": "IPY_MODEL_0315885651c64b76ac0a542a37e36d1a"
          }
        },
        "b571915e58ec47c383d897ab3d0ccf1f": {
          "model_module": "@jupyter-widgets/controls",
          "model_name": "HTMLModel",
          "model_module_version": "1.5.0",
          "state": {
            "_dom_classes": [],
            "_model_module": "@jupyter-widgets/controls",
            "_model_module_version": "1.5.0",
            "_model_name": "HTMLModel",
            "_view_count": null,
            "_view_module": "@jupyter-widgets/controls",
            "_view_module_version": "1.5.0",
            "_view_name": "HTMLView",
            "description": "",
            "description_tooltip": null,
            "layout": "IPY_MODEL_4afb48aba0bf43279192e4adfae0eeaf",
            "placeholder": "​",
            "style": "IPY_MODEL_3ecc434f051e4f2ab333564374a8333d",
            "value": "100%"
          }
        },
        "098c647add61468287749f82d8ae7021": {
          "model_module": "@jupyter-widgets/controls",
          "model_name": "FloatProgressModel",
          "model_module_version": "1.5.0",
          "state": {
            "_dom_classes": [],
            "_model_module": "@jupyter-widgets/controls",
            "_model_module_version": "1.5.0",
            "_model_name": "FloatProgressModel",
            "_view_count": null,
            "_view_module": "@jupyter-widgets/controls",
            "_view_module_version": "1.5.0",
            "_view_name": "ProgressView",
            "bar_style": "success",
            "description": "",
            "description_tooltip": null,
            "layout": "IPY_MODEL_6e984317d47b491da75a45e7e3df7b89",
            "max": 20,
            "min": 0,
            "orientation": "horizontal",
            "style": "IPY_MODEL_0f5f2bdb59134cdcbefc16d67241eb5a",
            "value": 20
          }
        },
        "dda0870e55c64807b5b4765b739a58f5": {
          "model_module": "@jupyter-widgets/controls",
          "model_name": "HTMLModel",
          "model_module_version": "1.5.0",
          "state": {
            "_dom_classes": [],
            "_model_module": "@jupyter-widgets/controls",
            "_model_module_version": "1.5.0",
            "_model_name": "HTMLModel",
            "_view_count": null,
            "_view_module": "@jupyter-widgets/controls",
            "_view_module_version": "1.5.0",
            "_view_name": "HTMLView",
            "description": "",
            "description_tooltip": null,
            "layout": "IPY_MODEL_88631b29c6404f23ab2f91aeb829645d",
            "placeholder": "​",
            "style": "IPY_MODEL_3d19e09b0c7a4fc0aba77095e2df0ae7",
            "value": " 20/20 [26:55&lt;00:00, 85.21s/it]"
          }
        },
        "0315885651c64b76ac0a542a37e36d1a": {
          "model_module": "@jupyter-widgets/base",
          "model_name": "LayoutModel",
          "model_module_version": "1.2.0",
          "state": {
            "_model_module": "@jupyter-widgets/base",
            "_model_module_version": "1.2.0",
            "_model_name": "LayoutModel",
            "_view_count": null,
            "_view_module": "@jupyter-widgets/base",
            "_view_module_version": "1.2.0",
            "_view_name": "LayoutView",
            "align_content": null,
            "align_items": null,
            "align_self": null,
            "border": null,
            "bottom": null,
            "display": null,
            "flex": null,
            "flex_flow": null,
            "grid_area": null,
            "grid_auto_columns": null,
            "grid_auto_flow": null,
            "grid_auto_rows": null,
            "grid_column": null,
            "grid_gap": null,
            "grid_row": null,
            "grid_template_areas": null,
            "grid_template_columns": null,
            "grid_template_rows": null,
            "height": null,
            "justify_content": null,
            "justify_items": null,
            "left": null,
            "margin": null,
            "max_height": null,
            "max_width": null,
            "min_height": null,
            "min_width": null,
            "object_fit": null,
            "object_position": null,
            "order": null,
            "overflow": null,
            "overflow_x": null,
            "overflow_y": null,
            "padding": null,
            "right": null,
            "top": null,
            "visibility": null,
            "width": null
          }
        },
        "4afb48aba0bf43279192e4adfae0eeaf": {
          "model_module": "@jupyter-widgets/base",
          "model_name": "LayoutModel",
          "model_module_version": "1.2.0",
          "state": {
            "_model_module": "@jupyter-widgets/base",
            "_model_module_version": "1.2.0",
            "_model_name": "LayoutModel",
            "_view_count": null,
            "_view_module": "@jupyter-widgets/base",
            "_view_module_version": "1.2.0",
            "_view_name": "LayoutView",
            "align_content": null,
            "align_items": null,
            "align_self": null,
            "border": null,
            "bottom": null,
            "display": null,
            "flex": null,
            "flex_flow": null,
            "grid_area": null,
            "grid_auto_columns": null,
            "grid_auto_flow": null,
            "grid_auto_rows": null,
            "grid_column": null,
            "grid_gap": null,
            "grid_row": null,
            "grid_template_areas": null,
            "grid_template_columns": null,
            "grid_template_rows": null,
            "height": null,
            "justify_content": null,
            "justify_items": null,
            "left": null,
            "margin": null,
            "max_height": null,
            "max_width": null,
            "min_height": null,
            "min_width": null,
            "object_fit": null,
            "object_position": null,
            "order": null,
            "overflow": null,
            "overflow_x": null,
            "overflow_y": null,
            "padding": null,
            "right": null,
            "top": null,
            "visibility": null,
            "width": null
          }
        },
        "3ecc434f051e4f2ab333564374a8333d": {
          "model_module": "@jupyter-widgets/controls",
          "model_name": "DescriptionStyleModel",
          "model_module_version": "1.5.0",
          "state": {
            "_model_module": "@jupyter-widgets/controls",
            "_model_module_version": "1.5.0",
            "_model_name": "DescriptionStyleModel",
            "_view_count": null,
            "_view_module": "@jupyter-widgets/base",
            "_view_module_version": "1.2.0",
            "_view_name": "StyleView",
            "description_width": ""
          }
        },
        "6e984317d47b491da75a45e7e3df7b89": {
          "model_module": "@jupyter-widgets/base",
          "model_name": "LayoutModel",
          "model_module_version": "1.2.0",
          "state": {
            "_model_module": "@jupyter-widgets/base",
            "_model_module_version": "1.2.0",
            "_model_name": "LayoutModel",
            "_view_count": null,
            "_view_module": "@jupyter-widgets/base",
            "_view_module_version": "1.2.0",
            "_view_name": "LayoutView",
            "align_content": null,
            "align_items": null,
            "align_self": null,
            "border": null,
            "bottom": null,
            "display": null,
            "flex": null,
            "flex_flow": null,
            "grid_area": null,
            "grid_auto_columns": null,
            "grid_auto_flow": null,
            "grid_auto_rows": null,
            "grid_column": null,
            "grid_gap": null,
            "grid_row": null,
            "grid_template_areas": null,
            "grid_template_columns": null,
            "grid_template_rows": null,
            "height": null,
            "justify_content": null,
            "justify_items": null,
            "left": null,
            "margin": null,
            "max_height": null,
            "max_width": null,
            "min_height": null,
            "min_width": null,
            "object_fit": null,
            "object_position": null,
            "order": null,
            "overflow": null,
            "overflow_x": null,
            "overflow_y": null,
            "padding": null,
            "right": null,
            "top": null,
            "visibility": null,
            "width": null
          }
        },
        "0f5f2bdb59134cdcbefc16d67241eb5a": {
          "model_module": "@jupyter-widgets/controls",
          "model_name": "ProgressStyleModel",
          "model_module_version": "1.5.0",
          "state": {
            "_model_module": "@jupyter-widgets/controls",
            "_model_module_version": "1.5.0",
            "_model_name": "ProgressStyleModel",
            "_view_count": null,
            "_view_module": "@jupyter-widgets/base",
            "_view_module_version": "1.2.0",
            "_view_name": "StyleView",
            "bar_color": null,
            "description_width": ""
          }
        },
        "88631b29c6404f23ab2f91aeb829645d": {
          "model_module": "@jupyter-widgets/base",
          "model_name": "LayoutModel",
          "model_module_version": "1.2.0",
          "state": {
            "_model_module": "@jupyter-widgets/base",
            "_model_module_version": "1.2.0",
            "_model_name": "LayoutModel",
            "_view_count": null,
            "_view_module": "@jupyter-widgets/base",
            "_view_module_version": "1.2.0",
            "_view_name": "LayoutView",
            "align_content": null,
            "align_items": null,
            "align_self": null,
            "border": null,
            "bottom": null,
            "display": null,
            "flex": null,
            "flex_flow": null,
            "grid_area": null,
            "grid_auto_columns": null,
            "grid_auto_flow": null,
            "grid_auto_rows": null,
            "grid_column": null,
            "grid_gap": null,
            "grid_row": null,
            "grid_template_areas": null,
            "grid_template_columns": null,
            "grid_template_rows": null,
            "height": null,
            "justify_content": null,
            "justify_items": null,
            "left": null,
            "margin": null,
            "max_height": null,
            "max_width": null,
            "min_height": null,
            "min_width": null,
            "object_fit": null,
            "object_position": null,
            "order": null,
            "overflow": null,
            "overflow_x": null,
            "overflow_y": null,
            "padding": null,
            "right": null,
            "top": null,
            "visibility": null,
            "width": null
          }
        },
        "3d19e09b0c7a4fc0aba77095e2df0ae7": {
          "model_module": "@jupyter-widgets/controls",
          "model_name": "DescriptionStyleModel",
          "model_module_version": "1.5.0",
          "state": {
            "_model_module": "@jupyter-widgets/controls",
            "_model_module_version": "1.5.0",
            "_model_name": "DescriptionStyleModel",
            "_view_count": null,
            "_view_module": "@jupyter-widgets/base",
            "_view_module_version": "1.2.0",
            "_view_name": "StyleView",
            "description_width": ""
          }
        },
        "bdac2f882bc94aceba7b9650b0b6da28": {
          "model_module": "@jupyter-widgets/controls",
          "model_name": "VBoxModel",
          "model_module_version": "1.5.0",
          "state": {
            "_dom_classes": [],
            "_model_module": "@jupyter-widgets/controls",
            "_model_module_version": "1.5.0",
            "_model_name": "VBoxModel",
            "_view_count": null,
            "_view_module": "@jupyter-widgets/controls",
            "_view_module_version": "1.5.0",
            "_view_name": "VBoxView",
            "box_style": "",
            "children": [
              "IPY_MODEL_430bb59082dd478b84529cd8890a615a",
              "IPY_MODEL_f87a06d6fe134cd5a1741ae08b452b26"
            ],
            "layout": "IPY_MODEL_68b7d526e70d41c69b9dbc31da25998b"
          }
        },
        "430bb59082dd478b84529cd8890a615a": {
          "model_module": "@jupyter-widgets/controls",
          "model_name": "LabelModel",
          "model_module_version": "1.5.0",
          "state": {
            "_dom_classes": [],
            "_model_module": "@jupyter-widgets/controls",
            "_model_module_version": "1.5.0",
            "_model_name": "LabelModel",
            "_view_count": null,
            "_view_module": "@jupyter-widgets/controls",
            "_view_module_version": "1.5.0",
            "_view_name": "LabelView",
            "description": "",
            "description_tooltip": null,
            "layout": "IPY_MODEL_18339eaffae948829aceba660c156644",
            "placeholder": "​",
            "style": "IPY_MODEL_216cfb9aed8f4eee8ef4b99e157ad4b4",
            "value": "0.001 MB of 0.010 MB uploaded (0.000 MB deduped)\r"
          }
        },
        "f87a06d6fe134cd5a1741ae08b452b26": {
          "model_module": "@jupyter-widgets/controls",
          "model_name": "FloatProgressModel",
          "model_module_version": "1.5.0",
          "state": {
            "_dom_classes": [],
            "_model_module": "@jupyter-widgets/controls",
            "_model_module_version": "1.5.0",
            "_model_name": "FloatProgressModel",
            "_view_count": null,
            "_view_module": "@jupyter-widgets/controls",
            "_view_module_version": "1.5.0",
            "_view_name": "ProgressView",
            "bar_style": "",
            "description": "",
            "description_tooltip": null,
            "layout": "IPY_MODEL_22476f8052e942eeb938c6f75ef5f489",
            "max": 1,
            "min": 0,
            "orientation": "horizontal",
            "style": "IPY_MODEL_2cbbcdf18b834e3b8779babed3956426",
            "value": 0.11009000473709142
          }
        },
        "68b7d526e70d41c69b9dbc31da25998b": {
          "model_module": "@jupyter-widgets/base",
          "model_name": "LayoutModel",
          "model_module_version": "1.2.0",
          "state": {
            "_model_module": "@jupyter-widgets/base",
            "_model_module_version": "1.2.0",
            "_model_name": "LayoutModel",
            "_view_count": null,
            "_view_module": "@jupyter-widgets/base",
            "_view_module_version": "1.2.0",
            "_view_name": "LayoutView",
            "align_content": null,
            "align_items": null,
            "align_self": null,
            "border": null,
            "bottom": null,
            "display": null,
            "flex": null,
            "flex_flow": null,
            "grid_area": null,
            "grid_auto_columns": null,
            "grid_auto_flow": null,
            "grid_auto_rows": null,
            "grid_column": null,
            "grid_gap": null,
            "grid_row": null,
            "grid_template_areas": null,
            "grid_template_columns": null,
            "grid_template_rows": null,
            "height": null,
            "justify_content": null,
            "justify_items": null,
            "left": null,
            "margin": null,
            "max_height": null,
            "max_width": null,
            "min_height": null,
            "min_width": null,
            "object_fit": null,
            "object_position": null,
            "order": null,
            "overflow": null,
            "overflow_x": null,
            "overflow_y": null,
            "padding": null,
            "right": null,
            "top": null,
            "visibility": null,
            "width": null
          }
        },
        "18339eaffae948829aceba660c156644": {
          "model_module": "@jupyter-widgets/base",
          "model_name": "LayoutModel",
          "model_module_version": "1.2.0",
          "state": {
            "_model_module": "@jupyter-widgets/base",
            "_model_module_version": "1.2.0",
            "_model_name": "LayoutModel",
            "_view_count": null,
            "_view_module": "@jupyter-widgets/base",
            "_view_module_version": "1.2.0",
            "_view_name": "LayoutView",
            "align_content": null,
            "align_items": null,
            "align_self": null,
            "border": null,
            "bottom": null,
            "display": null,
            "flex": null,
            "flex_flow": null,
            "grid_area": null,
            "grid_auto_columns": null,
            "grid_auto_flow": null,
            "grid_auto_rows": null,
            "grid_column": null,
            "grid_gap": null,
            "grid_row": null,
            "grid_template_areas": null,
            "grid_template_columns": null,
            "grid_template_rows": null,
            "height": null,
            "justify_content": null,
            "justify_items": null,
            "left": null,
            "margin": null,
            "max_height": null,
            "max_width": null,
            "min_height": null,
            "min_width": null,
            "object_fit": null,
            "object_position": null,
            "order": null,
            "overflow": null,
            "overflow_x": null,
            "overflow_y": null,
            "padding": null,
            "right": null,
            "top": null,
            "visibility": null,
            "width": null
          }
        },
        "216cfb9aed8f4eee8ef4b99e157ad4b4": {
          "model_module": "@jupyter-widgets/controls",
          "model_name": "DescriptionStyleModel",
          "model_module_version": "1.5.0",
          "state": {
            "_model_module": "@jupyter-widgets/controls",
            "_model_module_version": "1.5.0",
            "_model_name": "DescriptionStyleModel",
            "_view_count": null,
            "_view_module": "@jupyter-widgets/base",
            "_view_module_version": "1.2.0",
            "_view_name": "StyleView",
            "description_width": ""
          }
        },
        "22476f8052e942eeb938c6f75ef5f489": {
          "model_module": "@jupyter-widgets/base",
          "model_name": "LayoutModel",
          "model_module_version": "1.2.0",
          "state": {
            "_model_module": "@jupyter-widgets/base",
            "_model_module_version": "1.2.0",
            "_model_name": "LayoutModel",
            "_view_count": null,
            "_view_module": "@jupyter-widgets/base",
            "_view_module_version": "1.2.0",
            "_view_name": "LayoutView",
            "align_content": null,
            "align_items": null,
            "align_self": null,
            "border": null,
            "bottom": null,
            "display": null,
            "flex": null,
            "flex_flow": null,
            "grid_area": null,
            "grid_auto_columns": null,
            "grid_auto_flow": null,
            "grid_auto_rows": null,
            "grid_column": null,
            "grid_gap": null,
            "grid_row": null,
            "grid_template_areas": null,
            "grid_template_columns": null,
            "grid_template_rows": null,
            "height": null,
            "justify_content": null,
            "justify_items": null,
            "left": null,
            "margin": null,
            "max_height": null,
            "max_width": null,
            "min_height": null,
            "min_width": null,
            "object_fit": null,
            "object_position": null,
            "order": null,
            "overflow": null,
            "overflow_x": null,
            "overflow_y": null,
            "padding": null,
            "right": null,
            "top": null,
            "visibility": null,
            "width": null
          }
        },
        "2cbbcdf18b834e3b8779babed3956426": {
          "model_module": "@jupyter-widgets/controls",
          "model_name": "ProgressStyleModel",
          "model_module_version": "1.5.0",
          "state": {
            "_model_module": "@jupyter-widgets/controls",
            "_model_module_version": "1.5.0",
            "_model_name": "ProgressStyleModel",
            "_view_count": null,
            "_view_module": "@jupyter-widgets/base",
            "_view_module_version": "1.2.0",
            "_view_name": "StyleView",
            "bar_color": null,
            "description_width": ""
          }
        }
      }
    }
  },
  "nbformat": 4,
  "nbformat_minor": 0
}